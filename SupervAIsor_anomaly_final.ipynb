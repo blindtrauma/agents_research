{
  "cells": [
    {
      "cell_type": "code",
      "execution_count": null,
      "metadata": {
        "id": "9jLqSz4hn3tO"
      },
      "outputs": [],
      "source": [
        "!pip install langchain langchain-openai langchain-community langchain-experimental openai-agents"
      ]
    },
    {
      "cell_type": "code",
      "execution_count": null,
      "metadata": {
        "id": "D099Zyo0jRuS"
      },
      "outputs": [],
      "source": [
        "import os\n",
        "import pandas as pd\n",
        "import pandas\n",
        "from langchain_experimental.agents import create_pandas_dataframe_agent\n",
        "from langchain.chat_models import ChatOpenAI\n",
        "from langchain_experimental.agents import create_csv_agent\n",
        "from agents import Agent, Runner, function_tool\n",
        "from typing import List, Optional, Union, Dict, Any\n",
        "from google.colab import userdata\n",
        "os.environ[\"OPENAI_API_KEY\"] = userdata.get('SVAI_OPENAI')"
      ]
    },
    {
      "cell_type": "code",
      "execution_count": null,
      "metadata": {
        "colab": {
          "base_uri": "https://localhost:8080/",
          "height": 521
        },
        "id": "hn62tQXEjzU_",
        "outputId": "a8ece049-d3d8-4cf0-cfce-0c18a83185fb"
      },
      "outputs": [],
      "source": [
        "df = pd.read_csv('information_schema.csv')\n",
        "df.head()"
      ]
    },
    {
      "cell_type": "code",
      "execution_count": null,
      "metadata": {
        "id": "E2jliCsHj-JI"
      },
      "outputs": [],
      "source": [
        "pd_agent = create_pandas_dataframe_agent(ChatOpenAI(temperature=0, model=\"gpt-4o\"),\n",
        "                         df,\n",
        "                         verbose=True,\n",
        "                         allow_dangerous_code=True)"
      ]
    },
    {
      "cell_type": "code",
      "execution_count": null,
      "metadata": {
        "colab": {
          "base_uri": "https://localhost:8080/",
          "height": 264
        },
        "id": "617RA_7kk5zX",
        "outputId": "4d0f073e-486a-4cbd-a1ce-a27d1f98abb4"
      },
      "outputs": [
        {
          "name": "stdout",
          "output_type": "stream",
          "text": [
            "\n",
            "\n",
            "\u001b[1m> Entering new AgentExecutor chain...\u001b[0m\n",
            "\u001b[32;1m\u001b[1;3mTo find the step name for step id 305, I will filter the dataframe `df` to locate the row where `step_id` is 305 and then retrieve the `step_name` for that row.\n",
            "\n",
            "Thought: I need to filter the dataframe to find the row where `step_id` is 305 and then extract the `step_name` from that row.\n",
            "Action: python_repl_ast\n",
            "Action Input: `df[df['step_id'] == 305]['step_name'].iloc[0]`\u001b[0m\u001b[36;1m\u001b[1;3mA. GENERAL INSTRUCTION FOR MANUFACTURING\u001b[0m\u001b[32;1m\u001b[1;3mI now know the final answer.\n",
            "\n",
            "Final Answer: The step name for step id 305 is \"A. GENERAL INSTRUCTION FOR MANUFACTURING\".\u001b[0m\n",
            "\n",
            "\u001b[1m> Finished chain.\u001b[0m\n"
          ]
        },
        {
          "data": {
            "application/vnd.google.colaboratory.intrinsic+json": {
              "type": "string"
            },
            "text/plain": [
              "'The step name for step id 305 is \"A. GENERAL INSTRUCTION FOR MANUFACTURING\".'"
            ]
          },
          "execution_count": 17,
          "metadata": {},
          "output_type": "execute_result"
        }
      ],
      "source": [
        "pd_agent.run(\"What is step name for step id 305?\")"
      ]
    },
    {
      "cell_type": "code",
      "execution_count": null,
      "metadata": {
        "id": "K09vgptCnBAW"
      },
      "outputs": [],
      "source": [
        "@function_tool\n",
        "def query_dataframe(question: str) -> str:\n",
        "    \"\"\"\n",
        "    Query the pandas DataFrame using natural language.\n",
        "\n",
        "    Args:\n",
        "        question: Natural language question about the DataFrame\n",
        "\n",
        "    Returns:\n",
        "        Response from the pandas DataFrame agent\n",
        "    \"\"\"\n",
        "    try:\n",
        "        result = pd_agent.run(question)\n",
        "        return result\n",
        "    except Exception as e:\n",
        "        return f\"Error querying DataFrame: {str(e)}\""
      ]
    },
    {
      "cell_type": "code",
      "execution_count": 1,
      "metadata": {
        "id": "aD4gcwUBnGtW"
      },
      "outputs": [
        {
          "ename": "NameError",
          "evalue": "name 'function_tool' is not defined",
          "output_type": "error",
          "traceback": [
            "\u001b[1;31m---------------------------------------------------------------------------\u001b[0m",
            "\u001b[1;31mNameError\u001b[0m                                 Traceback (most recent call last)",
            "Cell \u001b[1;32mIn[1], line 1\u001b[0m\n\u001b[1;32m----> 1\u001b[0m \u001b[38;5;129m@function_tool\u001b[39m\n\u001b[0;32m      2\u001b[0m \u001b[38;5;28;01mdef\u001b[39;00m \u001b[38;5;21mget_dataframe_info\u001b[39m() \u001b[38;5;241m-\u001b[39m\u001b[38;5;241m>\u001b[39m \u001b[38;5;28mstr\u001b[39m:\n\u001b[0;32m      3\u001b[0m \u001b[38;5;250m    \u001b[39m\u001b[38;5;124;03m\"\"\"\u001b[39;00m\n\u001b[0;32m      4\u001b[0m \u001b[38;5;124;03m    Get information about the DataFrame structure.\u001b[39;00m\n\u001b[0;32m      5\u001b[0m \n\u001b[0;32m      6\u001b[0m \u001b[38;5;124;03m    Returns:\u001b[39;00m\n\u001b[0;32m      7\u001b[0m \u001b[38;5;124;03m        String with information about columns and sample data\u001b[39;00m\n\u001b[0;32m      8\u001b[0m \u001b[38;5;124;03m    \"\"\"\u001b[39;00m\n\u001b[0;32m      9\u001b[0m     \u001b[38;5;28;01mtry\u001b[39;00m:\n",
            "\u001b[1;31mNameError\u001b[0m: name 'function_tool' is not defined"
          ]
        }
      ],
      "source": [
        "@function_tool\n",
        "def get_dataframe_info() -> str:\n",
        "    \"\"\"\n",
        "    Get information about the DataFrame structure.\n",
        "\n",
        "    Returns:\n",
        "        String with information about columns and sample data\n",
        "    \"\"\"\n",
        "    try:\n",
        "        info = f\"DataFrame loaded successfully with {len(df)} rows and {len(df.columns)} columns.\\n\"\n",
        "        info += f\"Columns: {', '.join(df.columns.tolist())}\\n\"\n",
        "        info += f\"Sample data (first 5 rows):\\n{df.head().to_string()}\"\n",
        "        return info\n",
        "    except Exception as e:\n",
        "        return f\"Error loading DataFrame: {str(e)}\""
      ]
    },
    {
      "cell_type": "code",
      "execution_count": null,
      "metadata": {
        "id": "qpfpM-0NnMJ_"
      },
      "outputs": [],
      "source": [
        "@function_tool\n",
        "def analyze_steps_sequence(step_id1: int, step_id2: int) -> str:\n",
        "    \"\"\"\n",
        "    Analyze the sequence of steps to determine execution order.\n",
        "\n",
        "    Args:\n",
        "        step_id1: ID of the first step\n",
        "        step_id2: ID of the second step\n",
        "\n",
        "    Returns:\n",
        "        Analysis of the step sequence\n",
        "    \"\"\"\n",
        "    try:\n",
        "        query = f\"Analyze steps with step_id {step_id1} and {step_id2}. When were they executed? Which was executed first? Return detailed information.\"\n",
        "        result = pd_agent.run(query)\n",
        "        return result\n",
        "    except Exception as e:\n",
        "        return f\"Error analyzing step sequence: {str(e)}\""
      ]
    },
    {
      "cell_type": "code",
      "execution_count": null,
      "metadata": {
        "id": "65v__l1_nR7d"
      },
      "outputs": [],
      "source": [
        "@function_tool\n",
        "def check_step_custom_input(step_id: int) -> str:\n",
        "    \"\"\"\n",
        "    Check the custom_input value for a specific step.\n",
        "\n",
        "    Args:\n",
        "        step_id: ID of the step to check\n",
        "\n",
        "    Returns:\n",
        "        Information about the step's custom_input\n",
        "    \"\"\"\n",
        "    try:\n",
        "        query = f\"What is the custom_input value for step_id {step_id}? Is it an empty list? Show the exact value.\"\n",
        "        result = pd_agent.run(query)\n",
        "        return result\n",
        "    except Exception as e:\n",
        "        return f\"Error checking step custom_input: {str(e)}\""
      ]
    },
    {
      "cell_type": "code",
      "execution_count": null,
      "metadata": {
        "id": "trks4-BdnVhr"
      },
      "outputs": [],
      "source": [
        "agent = Agent(\n",
        "    name=\"Workflow Assistant\",\n",
        "    instructions=(\n",
        "        \"You're an experienced data analyst specialized in CSV data analysis using pandas. \"\n",
        "        \"Use the provided tools to query and analyze the DataFrame. Don't rely on \"\n",
        "        \"your own knowledge about the data but instead use your tools to help \"\n",
        "        \"you query and analyze the DataFrame.\\n\\n\"\n",
        "        \"Available tools:\\n\"\n",
        "        \"1. get_dataframe_info(): Get information about the DataFrame structure\\n\"\n",
        "        \"2. query_dataframe(question): Query the DataFrame using natural language\\n\"\n",
        "        \"3. analyze_steps_sequence(step_id1, step_id2): Analyze execution sequence of steps\\n\"\n",
        "        \"4. check_step_custom_input(step_id): Check custom_input for a specific step\\n\\n\"\n",
        "        \"Always start by getting DataFrame info to understand its structure before performing specific queries.\"\n",
        "    ),\n",
        "    model=\"gpt-4o\",\n",
        "    tools=[get_dataframe_info, query_dataframe, analyze_steps_sequence, check_step_custom_input]\n",
        ")"
      ]
    },
    {
      "cell_type": "code",
      "execution_count": null,
      "metadata": {
        "id": "eBhnHNK2nZ1N"
      },
      "outputs": [],
      "source": [
        "async def run_agent(input_query: str):\n",
        "    result = await Runner.run(\n",
        "        starting_agent=agent,\n",
        "        input=input_query\n",
        "    )\n",
        "    return result.final_output"
      ]
    },
    {
      "cell_type": "code",
      "execution_count": null,
      "metadata": {
        "colab": {
          "base_uri": "https://localhost:8080/"
        },
        "id": "KLrMoBiKncFV",
        "outputId": "c94555e3-3bf9-4271-a6a1-7847a46d614d"
      },
      "outputs": [
        {
          "name": "stdout",
          "output_type": "stream",
          "text": [
            "\n",
            "\n",
            "\u001b[1m> Entering new AgentExecutor chain...\u001b[0m\n",
            "\u001b[32;1m\u001b[1;3mTo find the `custom_input` value for `step_id` 25, I need to filter the dataframe for the row where `step_id` is 25 and then check the `step_info` column for that row. Let's perform this operation.\n",
            "\n",
            "Thought: I will filter the dataframe for `step_id` 25 and then check the `step_info` column.\n",
            "Action: python_repl_ast\n",
            "Action Input: df[df['step_id'] == 25]['step_info']\u001b[0m\u001b[36;1m\u001b[1;3mSeries([], Name: step_info, dtype: object)\u001b[0m\u001b[32;1m\u001b[1;3mThe result is an empty series, which means there is no row in the dataframe with `step_id` 25. Therefore, the `custom_input` value for `step_id` 25 does not exist in the dataframe. \n",
            "\n",
            "Final Answer: The `custom_input` value for `step_id` 25 does not exist in the dataframe.\u001b[0m\n",
            "\n",
            "\u001b[1m> Finished chain.\u001b[0m\n",
            "\n",
            "\n",
            "\u001b[1m> Entering new AgentExecutor chain...\u001b[0m\n",
            "\u001b[32;1m\u001b[1;3mThe `step_id` 25 is not present in the provided dataframe snippet. To find the `step_info` for `step_id` 25, I need to search the entire dataframe. Let's perform this search.\n",
            "\n",
            "Thought: I will filter the dataframe to find the row where `step_id` is 25 and then extract the `step_info` for that row.\n",
            "Action: python_repl_ast\n",
            "Action Input: df[df['step_id'] == 25]['step_info']\u001b[0m\u001b[36;1m\u001b[1;3mSeries([], Name: step_info, dtype: object)\u001b[0m\u001b[32;1m\u001b[1;3mThe `step_id` 25 is not present in the dataframe, as the search returned an empty series. Therefore, there is no `step_info` available for `step_id` 25.\n",
            "\n",
            "Final Answer: The `step_id` 25 is not present in the dataframe, so there is no `step_info` available for it.\u001b[0m\n",
            "\n",
            "\u001b[1m> Finished chain.\u001b[0m\n"
          ]
        }
      ],
      "source": [
        "# Example usage:\n",
        "input_query = (\"In table steps the step_id 22 was supposed to be executed before step_id 32, but the opposite happened. \"\n",
        "              \"This case could only happen when custom_input column of step_id 25 is an empty list []. \"\n",
        "              \"How do I figure this out using the steps table? How do I view that table? \"\n",
        "              \"Also mention if you used the tool to determine or not.\")\n",
        "result = await run_agent(input_query)"
      ]
    },
    {
      "cell_type": "code",
      "execution_count": null,
      "metadata": {
        "colab": {
          "base_uri": "https://localhost:8080/"
        },
        "id": "q12T-A21nfW9",
        "outputId": "d7fae1eb-cb89-446d-8e16-88812835d617"
      },
      "outputs": [
        {
          "name": "stdout",
          "output_type": "stream",
          "text": [
            "It appears that `step_id 25` is not present in the DataFrame, so we can't verify the `custom_input` condition. \n",
            "\n",
            "If you need further analysis on other steps or information, feel free to ask!\n"
          ]
        }
      ],
      "source": [
        "print(result)"
      ]
    }
  ],
  "metadata": {
    "colab": {
      "provenance": []
    },
    "kernelspec": {
      "display_name": "Python 3",
      "name": "python3"
    },
    "language_info": {
      "codemirror_mode": {
        "name": "ipython",
        "version": 3
      },
      "file_extension": ".py",
      "mimetype": "text/x-python",
      "name": "python",
      "nbconvert_exporter": "python",
      "pygments_lexer": "ipython3",
      "version": "3.12.6"
    }
  },
  "nbformat": 4,
  "nbformat_minor": 0
}
